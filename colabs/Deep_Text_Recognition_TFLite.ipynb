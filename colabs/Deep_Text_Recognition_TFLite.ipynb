{
  "nbformat": 4,
  "nbformat_minor": 0,
  "metadata": {
    "colab": {
      "name": "Deep_Text_Recognition_TFLite.ipynb",
      "provenance": [],
      "collapsed_sections": []
    },
    "kernelspec": {
      "name": "python3",
      "display_name": "Python 3"
    },
    "accelerator": "GPU"
  },
  "cells": [
    {
      "cell_type": "markdown",
      "metadata": {
        "id": "ILKWFDsjdQHM"
      },
      "source": [
        "## SetUp"
      ]
    },
    {
      "cell_type": "code",
      "metadata": {
        "id": "Cn7jJ9__dCuU"
      },
      "source": [
        "!pip install pydantic\n",
        "!pip install onnx\n",
        "!pip install onnxruntime\n",
        "!pip install pip install git+https://github.com/onnx/onnx-tensorflow.git\n",
        "!pip install tf-nightly"
      ],
      "execution_count": null,
      "outputs": []
    },
    {
      "cell_type": "code",
      "metadata": {
        "colab": {
          "base_uri": "https://localhost:8080/",
          "height": 35
        },
        "id": "MgC-fkgcdpyB",
        "outputId": "51994545-3041-4200-95c2-e88712dcf2c8"
      },
      "source": [
        "import tensorflow as tf\n",
        "tf.__version__"
      ],
      "execution_count": 2,
      "outputs": [
        {
          "output_type": "execute_result",
          "data": {
            "application/vnd.google.colaboratory.intrinsic+json": {
              "type": "string"
            },
            "text/plain": [
              "'2.5.0-dev20210123'"
            ]
          },
          "metadata": {
            "tags": []
          },
          "execution_count": 2
        }
      ]
    },
    {
      "cell_type": "markdown",
      "metadata": {
        "id": "kmVI2lCadedi"
      },
      "source": [
        "## Download Pre-Trained Model"
      ]
    },
    {
      "cell_type": "code",
      "metadata": {
        "id": "hsLVnr4ldSqp"
      },
      "source": [
        "!wget https://www.dropbox.com/sh/j3xmli4di1zuv3s/AABzCC1KGbIRe2wRwa3diWKwa/None-ResNet-None-CTC.pth?dl=0 -O /content/None-ResNet-None-CTC.pth"
      ],
      "execution_count": null,
      "outputs": []
    },
    {
      "cell_type": "markdown",
      "metadata": {
        "id": "jXTi8I_fdxi8"
      },
      "source": [
        "## Clone the Repository"
      ]
    },
    {
      "cell_type": "code",
      "metadata": {
        "id": "6bEalC-ZdwZ0"
      },
      "source": [
        "!git clone https://github.com/clovaai/deep-text-recognition-benchmark\n",
        "%cd deep-text-recognition-benchmark"
      ],
      "execution_count": null,
      "outputs": []
    },
    {
      "cell_type": "markdown",
      "metadata": {
        "id": "GeRWVOWld_kP"
      },
      "source": [
        "## Imports"
      ]
    },
    {
      "cell_type": "code",
      "metadata": {
        "id": "U3co0iwtd4-H"
      },
      "source": [
        "import onnx\n",
        "import cv2\n",
        "import onnxruntime\n",
        "import torch\n",
        "import torch.nn as nn\n",
        "import numpy as np\n",
        "\n",
        "from modules.transformation import TPS_SpatialTransformerNetwork\n",
        "from modules.feature_extraction import VGG_FeatureExtractor, RCNN_FeatureExtractor, ResNet_FeatureExtractor\n",
        "from modules.sequence_modeling import BidirectionalLSTM\n",
        "from modules.prediction import Attention\n",
        "\n",
        "from onnx_tf.backend import prepare\n",
        "from pydantic import BaseModel\n",
        "from collections import OrderedDict"
      ],
      "execution_count": 5,
      "outputs": []
    },
    {
      "cell_type": "markdown",
      "metadata": {
        "id": "HQIvnWfbeDBd"
      },
      "source": [
        "## Updating the Model to convert to ONNX"
      ]
    },
    {
      "cell_type": "markdown",
      "metadata": {
        "id": "_J8wG5VTeTb9"
      },
      "source": [
        "**Modifications**\n",
        "\n",
        "- Removing the **TPS** module in the forward function.\n",
        "- Removing the **Adaptive Avg Pool** Layer (Removing this layer will not affect results).\n",
        "- Removing the **Sequence Modelling Layer**"
      ]
    },
    {
      "cell_type": "code",
      "metadata": {
        "id": "BHxchIxEeBPN"
      },
      "source": [
        "class Model(nn.Module):\n",
        "\n",
        "    def __init__(self, opt):\n",
        "        super(Model, self).__init__()\n",
        "        self.opt = opt\n",
        "        self.stages = {'Trans': opt.Transformation, 'Feat': opt.FeatureExtraction,\n",
        "                       'Seq': opt.SequenceModeling, 'Pred': opt.Prediction}\n",
        "\n",
        "        \"\"\" Transformation \"\"\"\n",
        "        if opt.Transformation == 'TPS':\n",
        "            self.Transformation = TPS_SpatialTransformerNetwork(\n",
        "                F=opt.num_fiducial, I_size=(opt.imgH, opt.imgW), I_r_size=(opt.imgH, opt.imgW), I_channel_num=opt.input_channel)\n",
        "        else:\n",
        "            print('No Transformation module specified')\n",
        "\n",
        "        \"\"\" FeatureExtraction \"\"\"\n",
        "        if opt.FeatureExtraction == 'VGG':\n",
        "            self.FeatureExtraction = VGG_FeatureExtractor(opt.input_channel, opt.output_channel)\n",
        "        elif opt.FeatureExtraction == 'RCNN':\n",
        "            self.FeatureExtraction = RCNN_FeatureExtractor(opt.input_channel, opt.output_channel)\n",
        "        elif opt.FeatureExtraction == 'ResNet':\n",
        "            self.FeatureExtraction = ResNet_FeatureExtractor(opt.input_channel, opt.output_channel)\n",
        "        else:\n",
        "            raise Exception('No FeatureExtraction module specified')\n",
        "        self.FeatureExtraction_output = opt.output_channel  # int(imgH/16-1) * 512\n",
        "        self.AdaptiveAvgPool = nn.AdaptiveAvgPool2d((None, 1))  # Transform final (imgH/16-1) -> 1\n",
        "\n",
        "        \"\"\" Sequence modeling\"\"\"\n",
        "        if opt.SequenceModeling == 'BiLSTM':\n",
        "            self.SequenceModeling = nn.Sequential(\n",
        "                BidirectionalLSTM(self.FeatureExtraction_output, opt.hidden_size, opt.hidden_size),\n",
        "                BidirectionalLSTM(opt.hidden_size, opt.hidden_size, opt.hidden_size))\n",
        "            self.SequenceModeling_output = opt.hidden_size\n",
        "        else:\n",
        "            print('No SequenceModeling module specified')\n",
        "            self.SequenceModeling_output = self.FeatureExtraction_output\n",
        "\n",
        "        \"\"\" Prediction \"\"\"\n",
        "        if opt.Prediction == 'CTC':\n",
        "            self.Prediction = nn.Linear(self.SequenceModeling_output, opt.num_class)\n",
        "        elif opt.Prediction == 'Attn':\n",
        "            self.Prediction = Attention(self.SequenceModeling_output, opt.hidden_size, opt.num_class)\n",
        "        else:\n",
        "            raise Exception('Prediction is neither CTC or Attn')\n",
        "\n",
        "    def forward(self, input, is_train=True):\n",
        "        \"\"\" Feature extraction stage \"\"\"\n",
        "        visual_feature = self.FeatureExtraction(input)\n",
        "        visual_feature = visual_feature.permute(0, 3, 1, 2)\n",
        "        visual_feature = visual_feature.squeeze(3)\n",
        "\n",
        "        \"\"\" Prediction stage \"\"\"\n",
        "        prediction = self.Prediction(visual_feature.contiguous())\n",
        "        return prediction"
      ],
      "execution_count": 6,
      "outputs": []
    },
    {
      "cell_type": "code",
      "metadata": {
        "id": "iJ9CQ2Wxe_Y8"
      },
      "source": [
        "class InputData(BaseModel):\n",
        "    image_folder: str\n",
        "    saved_model: str\n",
        "    batch_max_length: int = 25\n",
        "    imgH: int = 32\n",
        "    imgW: int = 100\n",
        "    character: str = '0123456789abcdefghijklmnopqrstuvwxyz'\n",
        "    Transformation: str = None\n",
        "    FeatureExtraction: str\n",
        "    SequenceModeling: str = None\n",
        "    Prediction:str = 'CTC'\n",
        "    num_fiducal: int = 20\n",
        "    input_channel: int = 1\n",
        "    output_channel: int = 512\n",
        "    hidden_size: int = 256\n",
        "    num_class = 37"
      ],
      "execution_count": 7,
      "outputs": []
    },
    {
      "cell_type": "code",
      "metadata": {
        "id": "23MaL52PfSza"
      },
      "source": [
        "data = {'FeatureExtraction' : 'ResNet', 'image_folder': 'demo_image/', 'saved_model' : '/content/None-ResNet-None-CTC.pth'}\n",
        "opt = InputData(**data)"
      ],
      "execution_count": 8,
      "outputs": []
    },
    {
      "cell_type": "code",
      "metadata": {
        "colab": {
          "base_uri": "https://localhost:8080/"
        },
        "id": "mX4d5FNPfVBj",
        "outputId": "0b42be7d-4de7-42d6-db46-37e8e91b4c78"
      },
      "source": [
        "model = Model(opt)"
      ],
      "execution_count": 9,
      "outputs": [
        {
          "output_type": "stream",
          "text": [
            "No Transformation module specified\n",
            "No SequenceModeling module specified\n"
          ],
          "name": "stdout"
        }
      ]
    },
    {
      "cell_type": "code",
      "metadata": {
        "colab": {
          "base_uri": "https://localhost:8080/"
        },
        "id": "RrPeIkOwfarD",
        "outputId": "d9e983f4-acfc-4cdf-adad-846280791034"
      },
      "source": [
        "# Removing DataParallel module name for conversion to ONNX\n",
        "# This part of the code used from here https://github.com/axinc-ai/ailia-models/issues/302\n",
        "\n",
        "device = 'cuda:0'\n",
        "def fix_model_state_dict(state_dict):\n",
        "    new_state_dict = OrderedDict()\n",
        "    for key, value in state_dict.items():\n",
        "        if key.startswith('module.'):\n",
        "            key = key[7:]  \n",
        "        new_state_dict[key] = value\n",
        "    return new_state_dict\n",
        "\n",
        "# # load model\n",
        "# print('loading pretrained model from %s' % opt.saved_model)\n",
        "model.load_state_dict(fix_model_state_dict(torch.load(opt.saved_model, map_location=device)))"
      ],
      "execution_count": 10,
      "outputs": [
        {
          "output_type": "execute_result",
          "data": {
            "text/plain": [
              "<All keys matched successfully>"
            ]
          },
          "metadata": {
            "tags": []
          },
          "execution_count": 10
        }
      ]
    },
    {
      "cell_type": "markdown",
      "metadata": {
        "id": "f63kfVI_ggnr"
      },
      "source": [
        "## ONNX Conversion"
      ]
    },
    {
      "cell_type": "code",
      "metadata": {
        "colab": {
          "base_uri": "https://localhost:8080/"
        },
        "id": "x6VrcBtHf_ZD",
        "outputId": "646e0036-ac73-46ec-8560-f56584440f6d"
      },
      "source": [
        "input = torch.randn(1, 1, 32, 100)\n",
        "model.eval()\n",
        "# Export the model\n",
        "torch.onnx.export(model,               # model being run\n",
        "                  input,                         # model input (or a tuple for multiple inputs)\n",
        "                  \"crnn_resnet.onnx\",   # where to save the model (can be a file or file-like object)\n",
        "                  export_params=True,        # store the trained parameter weights inside the model file\n",
        "                  opset_version=11,          # the ONNX version to export the model to\n",
        "                  do_constant_folding=True,  # whether to execute constant folding for optimization\n",
        "                  input_names = ['input'],   # the model's input names\n",
        "                  output_names = ['output'], # the model's output names\n",
        "                  # dynamic_axes={'input' : {2 : 'height',\n",
        "                  #                          3 : 'width'},    # variable lenght axes\n",
        "                  #               'output' : {1 : 'seq_length'}})\n",
        ")\n",
        "print(\"Model converted succesfully\")"
      ],
      "execution_count": 11,
      "outputs": [
        {
          "output_type": "stream",
          "text": [
            "Model converted succesfully\n"
          ],
          "name": "stdout"
        }
      ]
    },
    {
      "cell_type": "code",
      "metadata": {
        "colab": {
          "base_uri": "https://localhost:8080/"
        },
        "id": "-Y6pRISJkgq1",
        "outputId": "bb9378a8-58ae-40cb-b5da-3871de47b979"
      },
      "source": [
        "# Model Size\n",
        "!du -sh crnn_resnet.onnx"
      ],
      "execution_count": 12,
      "outputs": [
        {
          "output_type": "stream",
          "text": [
            "169M\tcrnn_resnet.onnx\n"
          ],
          "name": "stdout"
        }
      ]
    },
    {
      "cell_type": "markdown",
      "metadata": {
        "id": "0nM8XNvTiHrZ"
      },
      "source": [
        "## ONNX Inference"
      ]
    },
    {
      "cell_type": "markdown",
      "metadata": {
        "id": "r1ceXSs2iSa5"
      },
      "source": [
        "#### Load Input"
      ]
    },
    {
      "cell_type": "code",
      "metadata": {
        "id": "l-hpEeh4iXQR"
      },
      "source": [
        "image_path = '/content/deep-text-recognition-benchmark/demo_image/demo_4.png'\n",
        "orig_image = cv2.imread(image_path)\n",
        "image = cv2.cvtColor(orig_image, cv2.COLOR_BGR2GRAY)\n",
        "image = image/127.5 - 1.0\n",
        "image = cv2.resize(image,(100, 32),interpolation=cv2.INTER_CUBIC)\n",
        "image = np.expand_dims(image, 0)\n",
        "image = np.expand_dims(image, 0)\n",
        "image = np.float32(image)\n",
        "\n",
        "torch_input = torch.from_numpy(image)"
      ],
      "execution_count": 13,
      "outputs": []
    },
    {
      "cell_type": "code",
      "metadata": {
        "id": "9kUkchvNgbta"
      },
      "source": [
        "ort_session = onnxruntime.InferenceSession(\"crnn_resnet.onnx\")\n",
        "\n",
        "def to_numpy(tensor):\n",
        "    print(tensor)\n",
        "    return tensor.detach().cpu().numpy()\n",
        "\n",
        "# # compute ONNX Runtime output prediction\n",
        "ort_inputs = {ort_session.get_inputs()[0].name: image}\n",
        "ort_outs = ort_session.run(None, ort_inputs)"
      ],
      "execution_count": 14,
      "outputs": []
    },
    {
      "cell_type": "code",
      "metadata": {
        "id": "YHK5_j4UjQri"
      },
      "source": [
        "# Run PyTorch model\n",
        "store_out = model(torch_input)"
      ],
      "execution_count": 15,
      "outputs": []
    },
    {
      "cell_type": "markdown",
      "metadata": {
        "id": "TOikR-IUjF1w"
      },
      "source": [
        "## Compare PyTorch and ONNX output"
      ]
    },
    {
      "cell_type": "code",
      "metadata": {
        "colab": {
          "base_uri": "https://localhost:8080/"
        },
        "id": "X7mSQx43iwmJ",
        "outputId": "0ab0363b-941a-4f22-c811-2d1d1fbe2335"
      },
      "source": [
        "np.testing.assert_allclose(store_out.detach().numpy(), ort_outs[0], rtol=1e-03, atol=1e-04)\n",
        "print(\"Comparison Succesful\")"
      ],
      "execution_count": 16,
      "outputs": [
        {
          "output_type": "stream",
          "text": [
            "Comparison Succesful\n"
          ],
          "name": "stdout"
        }
      ]
    },
    {
      "cell_type": "markdown",
      "metadata": {
        "id": "jdQjDl85jy6h"
      },
      "source": [
        "## ONNX Model to TensorFlow Graph"
      ]
    },
    {
      "cell_type": "code",
      "metadata": {
        "colab": {
          "base_uri": "https://localhost:8080/"
        },
        "id": "xMX3X8T9jUxe",
        "outputId": "a78f5396-4a5e-414b-dec4-7f649191a43b"
      },
      "source": [
        "onnx_model = onnx.load('crnn_resnet.onnx')\n",
        "tf_rep = prepare(onnx_model)\n",
        "tf_rep.export_graph('crnn_resnet.pb')"
      ],
      "execution_count": 17,
      "outputs": [
        {
          "output_type": "stream",
          "text": [
            "WARNING:tensorflow:From /usr/local/lib/python3.6/dist-packages/tensorflow/python/ops/array_ops.py:5045: calling gather (from tensorflow.python.ops.array_ops) with validate_indices is deprecated and will be removed in a future version.\n",
            "Instructions for updating:\n",
            "The `validate_indices` argument has no effect. Indices are always validated on CPU and never validated on GPU.\n"
          ],
          "name": "stdout"
        },
        {
          "output_type": "stream",
          "text": [
            "WARNING:absl:Found untraced functions such as gen_tensor_dict while saving (showing 1 of 1). These functions will not be directly callable after loading.\n"
          ],
          "name": "stderr"
        },
        {
          "output_type": "stream",
          "text": [
            "INFO:tensorflow:Assets written to: crnn_resnet.pb/assets\n"
          ],
          "name": "stdout"
        },
        {
          "output_type": "stream",
          "text": [
            "INFO:tensorflow:Assets written to: crnn_resnet.pb/assets\n"
          ],
          "name": "stderr"
        }
      ]
    },
    {
      "cell_type": "markdown",
      "metadata": {
        "id": "xHr66EE1j-Fw"
      },
      "source": [
        "## TFLite Conversion"
      ]
    },
    {
      "cell_type": "code",
      "metadata": {
        "id": "BYVrMHX3BAw9"
      },
      "source": [
        "# Download and unzipping representative dataset\n",
        "%%bash\n",
        "wget https://github.com/tulasiram58827/ocr_tflite/raw/main/data/represent_data.zip\n",
        "unzip represent_data.zip"
      ],
      "execution_count": null,
      "outputs": []
    },
    {
      "cell_type": "code",
      "metadata": {
        "id": "C5-5Q4o5BB8z"
      },
      "source": [
        "# Representative Data Generation Function used for Integer Quantization\n",
        "dataset_path = 'represent_data/'\n",
        "def representative_data_gen():\n",
        "    for file in os.listdir(dataset_path):\n",
        "        image_path = dataset_path + file\n",
        "        orig_image = cv2.imread(image_path)\n",
        "        image = cv2.cvtColor(orig_image, cv2.COLOR_BGR2GRAY)\n",
        "        image = image/127.5 - 1.0\n",
        "        image = cv2.resize(image,(100, 32),interpolation=cv2.INTER_CUBIC)\n",
        "        image = np.expand_dims(image, 0)\n",
        "        image = np.expand_dims(image, 0)\n",
        "        image = np.float32(image)\n",
        "        yield [image]"
      ],
      "execution_count": 24,
      "outputs": []
    },
    {
      "cell_type": "code",
      "metadata": {
        "id": "lnqOo0tHj7jy"
      },
      "source": [
        "def convert_tflite(quantization='dr'):\n",
        "    loaded = tf.saved_model.load('/content/deep-text-recognition-benchmark/crnn_resnet.pb')\n",
        "    concrete_func = loaded.signatures[tf.saved_model.DEFAULT_SERVING_SIGNATURE_DEF_KEY]\n",
        "    converter = tf.lite.TFLiteConverter.from_concrete_functions([concrete_func])\n",
        "    converter.optimizations = [tf.lite.Optimize.DEFAULT]\n",
        "    if quantization == 'float16':\n",
        "        converter.target_spec.supported_types = [tf.float16]\n",
        "    elif quantization == 'int8' or quantization == 'full_int8':\n",
        "        converter.representative_dataset = representative_data_gen\n",
        "    if quantization == 'full_int8':\n",
        "        converter.target_spec.supported_ops = [tf.lite.OpsSet.TFLITE_BUILTINS_INT8]\n",
        "        converter.inference_input_type = tf.int8  # or tf.uint8\n",
        "        converter.inference_output_type = tf.int8  # or tf.uint8\n",
        "    tflite_model = converter.convert()\n",
        "    model_name = f'crnn_{quantization}.tflite'\n",
        "    with open(model_name, 'wb') as f:\n",
        "      f.write(tflite_model)"
      ],
      "execution_count": 25,
      "outputs": []
    },
    {
      "cell_type": "code",
      "metadata": {
        "colab": {
          "base_uri": "https://localhost:8080/"
        },
        "id": "gWFmQVJ_kObr",
        "outputId": "5ffd02c7-d762-465b-a3d7-545753084e99"
      },
      "source": [
        "convert_tflite()\n",
        "!du -sh crnn_dr.tflite"
      ],
      "execution_count": 19,
      "outputs": [
        {
          "output_type": "stream",
          "text": [
            "INFO:absl:Using new converter: If you encounter a problem please file a bug. You can opt-out by setting experimental_new_converter=False\n"
          ],
          "name": "stderr"
        },
        {
          "output_type": "stream",
          "text": [
            "43M\tcrnn_dr.tflite\n"
          ],
          "name": "stdout"
        }
      ]
    },
    {
      "cell_type": "code",
      "metadata": {
        "colab": {
          "base_uri": "https://localhost:8080/"
        },
        "id": "uK_MuItkkRzc",
        "outputId": "d948d75a-cbbd-48f3-e0b7-95b4a698e157"
      },
      "source": [
        "convert_tflite('float16')\n",
        "!du -sh crnn_float16.tflite"
      ],
      "execution_count": 20,
      "outputs": [
        {
          "output_type": "stream",
          "text": [
            "INFO:absl:Using new converter: If you encounter a problem please file a bug. You can opt-out by setting experimental_new_converter=False\n"
          ],
          "name": "stderr"
        },
        {
          "output_type": "stream",
          "text": [
            "85M\tcrnn_float16.tflite\n"
          ],
          "name": "stdout"
        }
      ]
    },
    {
      "cell_type": "code",
      "metadata": {
        "colab": {
          "base_uri": "https://localhost:8080/"
        },
        "id": "WNS_NwkuEdz_",
        "outputId": "026581e7-c430-4a4c-815d-40cb542928dd"
      },
      "source": [
        "import os\n",
        "convert_tflite('int8')\n",
        "!du -sh crnn_int8.tflite"
      ],
      "execution_count": 27,
      "outputs": [
        {
          "output_type": "stream",
          "text": [
            "INFO:absl:Using new converter: If you encounter a problem please file a bug. You can opt-out by setting experimental_new_converter=False\n"
          ],
          "name": "stderr"
        },
        {
          "output_type": "stream",
          "text": [
            "43M\tcrnn_int8.tflite\n"
          ],
          "name": "stdout"
        }
      ]
    },
    {
      "cell_type": "code",
      "metadata": {
        "colab": {
          "base_uri": "https://localhost:8080/"
        },
        "id": "KKJ1OdF0FEAp",
        "outputId": "61a2859c-264f-4b88-d0fb-22db74decc88"
      },
      "source": [
        "convert_tflite('full_int8')\n",
        "!du -sh crnn_full_int8.tflite"
      ],
      "execution_count": 28,
      "outputs": [
        {
          "output_type": "stream",
          "text": [
            "INFO:absl:Using new converter: If you encounter a problem please file a bug. You can opt-out by setting experimental_new_converter=False\n"
          ],
          "name": "stderr"
        },
        {
          "output_type": "stream",
          "text": [
            "43M\tcrnn_int8.tflite\n"
          ],
          "name": "stdout"
        }
      ]
    },
    {
      "cell_type": "markdown",
      "metadata": {
        "id": "sgZWPn1EF3SI"
      },
      "source": [
        "**Integer and Fully Integer Quantized Models are not supported**"
      ]
    },
    {
      "cell_type": "markdown",
      "metadata": {
        "id": "Q0kEI75mkll2"
      },
      "source": [
        "## TFLite Inference"
      ]
    },
    {
      "cell_type": "code",
      "metadata": {
        "id": "gXd9GbbpkWpX"
      },
      "source": [
        "def tflite_inference(input, quantization='dr'):\n",
        "    model_name = f'crnn_{quantization}.tflite'\n",
        "    interpreter = tf.lite.Interpreter(model_path=model_name)\n",
        "    input_details = interpreter.get_input_details()\n",
        "    output_details = interpreter.get_output_details()\n",
        "    interpreter.allocate_tensors()\n",
        "    interpreter.set_tensor(input_details[0]['index'], input)\n",
        "    interpreter.invoke()\n",
        "    output = interpreter.get_tensor(output_details[0]['index'])\n",
        "    return output"
      ],
      "execution_count": 29,
      "outputs": []
    },
    {
      "cell_type": "code",
      "metadata": {
        "id": "SfOlXJt4kpYY"
      },
      "source": [
        "preds = tflite_inference(image, quantization='float16')"
      ],
      "execution_count": 32,
      "outputs": []
    },
    {
      "cell_type": "code",
      "metadata": {
        "id": "OzhcDAc5kvJK"
      },
      "source": [
        "def ctc_decode(preds):\n",
        "    pred_index = np.argmax(preds, axis=2)\n",
        "    char_list = list(opt.character)\n",
        "    char_dict = {}\n",
        "    for i, char in enumerate(char_list):\n",
        "        char_dict[char] = i + 1\n",
        "    char_list = ['_'] + char_list\n",
        "    BLANK = 0\n",
        "    texts = []\n",
        "    output = pred_index[0, :]\n",
        "    characters = []\n",
        "    for i in range(preds.shape[1]):\n",
        "        if output[i] != BLANK and (not (i > 0 and output[i - 1] == output[i])):\n",
        "            characters.append(char_list[output[i]])\n",
        "        text = ''.join(characters)\n",
        "    return text"
      ],
      "execution_count": 33,
      "outputs": []
    },
    {
      "cell_type": "code",
      "metadata": {
        "id": "Qbkc4z-Kk-H2"
      },
      "source": [
        "output = ctc_decode(preds)"
      ],
      "execution_count": 34,
      "outputs": []
    },
    {
      "cell_type": "code",
      "metadata": {
        "colab": {
          "base_uri": "https://localhost:8080/",
          "height": 140
        },
        "id": "l_dGTlGvnbP-",
        "outputId": "9f491b54-6f69-465f-a21b-20e490f14d96"
      },
      "source": [
        "from google.colab.patches import cv2_imshow\n",
        "\n",
        "print(\"Predicted....\", output)\n",
        "cv2_imshow(orig_image)"
      ],
      "execution_count": 35,
      "outputs": [
        {
          "output_type": "stream",
          "text": [
            "Predicted.... greenstead\n"
          ],
          "name": "stdout"
        },
        {
          "output_type": "display_data",
          "data": {
            "image/png": "[encoded data removed]",
            "text/plain": [
              "<PIL.Image.Image image mode=RGB size=315x106 at 0x7FB35E0E9240>"
            ]
          },
          "metadata": {
            "tags": []
          }
        }
      ]
    },
    {
      "cell_type": "code",
      "metadata": {
        "id": "QXjFj9CUF1um"
      },
      "source": [
        ""
      ],
      "execution_count": null,
      "outputs": []
    }
  ]
}
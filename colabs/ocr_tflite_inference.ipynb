{
  "nbformat": 4,
  "nbformat_minor": 0,
  "metadata": {
    "colab": {
      "name": "ocr_tflite_inference.ipynb",
      "provenance": [],
      "collapsed_sections": []
    },
    "kernelspec": {
      "name": "python3",
      "display_name": "Python 3"
    }
  },
  "cells": [
    {
      "cell_type": "code",
      "metadata": {
        "id": "6_h-40Ob7ktB"
      },
      "source": [
        "!pip install tf-nightly"
      ],
      "execution_count": null,
      "outputs": []
    },
    {
      "cell_type": "code",
      "metadata": {
        "colab": {
          "base_uri": "https://localhost:8080/",
          "height": 35
        },
        "id": "Q9KqAypp7qDB",
        "outputId": "34e11d75-cb71-47fd-f99f-9938be3162fe"
      },
      "source": [
        "import os\n",
        "import numpy as np\n",
        "import matplotlib.pyplot as plt\n",
        "\n",
        "from pathlib import Path\n",
        "from collections import Counter\n",
        "\n",
        "import tensorflow as tf\n",
        "from tensorflow import keras\n",
        "from tensorflow.keras import layers\n",
        "\n",
        "tf.__version__"
      ],
      "execution_count": 1,
      "outputs": [
        {
          "output_type": "execute_result",
          "data": {
            "application/vnd.google.colaboratory.intrinsic+json": {
              "type": "string"
            },
            "text/plain": [
              "'2.5.0-dev20201123'"
            ]
          },
          "metadata": {
            "tags": []
          },
          "execution_count": 1
        }
      ]
    },
    {
      "cell_type": "code",
      "metadata": {
        "colab": {
          "base_uri": "https://localhost:8080/"
        },
        "id": "KatIKEGv7qFa",
        "outputId": "f3cd6712-e7ec-4603-dad7-4c0a9a60ba29"
      },
      "source": [
        "!curl -LO https://github.com/AakashKumarNain/CaptchaCracker/raw/master/captcha_images_v2.zip\n",
        "!unzip -qq captcha_images_v2.zip"
      ],
      "execution_count": 2,
      "outputs": [
        {
          "output_type": "stream",
          "text": [
            "  % Total    % Received % Xferd  Average Speed   Time    Time     Time  Current\n",
            "                                 Dload  Upload   Total   Spent    Left  Speed\n",
            "100   159  100   159    0     0    243      0 --:--:-- --:--:-- --:--:--   243\n",
            "100 8863k  100 8863k    0     0  7416k      0  0:00:01  0:00:01 --:--:-- 25.8M\n"
          ],
          "name": "stdout"
        }
      ]
    },
    {
      "cell_type": "code",
      "metadata": {
        "colab": {
          "base_uri": "https://localhost:8080/"
        },
        "id": "IGK7ucLq7yVc",
        "outputId": "b906db81-6855-4a89-b0e7-5999d0195101"
      },
      "source": [
        "\n",
        "# Path to the data directory\n",
        "data_dir = Path(\"./captcha_images_v2/\")\n",
        "\n",
        "# Get list of all the images\n",
        "images = sorted(list(map(str, list(data_dir.glob(\"*.png\")))))\n",
        "labels = [img.split(os.path.sep)[-1].split(\".png\")[0] for img in images]\n",
        "characters = set(char for label in labels for char in label)\n",
        "\n",
        "print(\"Number of images found: \", len(images))\n",
        "print(\"Number of labels found: \", len(labels))\n",
        "print(\"Number of unique characters: \", len(characters))\n",
        "print(\"Characters present: \", characters)\n",
        "\n",
        "# Batch size for training and validation\n",
        "batch_size = 16\n",
        "\n",
        "# Desired image dimensions\n",
        "img_width = 200\n",
        "img_height = 50\n",
        "\n",
        "# Factor by which the image is going to be downsampled\n",
        "# by the convolutional blocks. We will be using two\n",
        "# convolution blocks and each block will have\n",
        "# a pooling layer which downsample the features by a factor of 2.\n",
        "# Hence total downsampling factor would be 4.\n",
        "downsample_factor = 4\n",
        "\n",
        "# Maximum length of any captcha in the dataset\n",
        "max_length = max([len(label) for label in labels])"
      ],
      "execution_count": 2,
      "outputs": [
        {
          "output_type": "stream",
          "text": [
            "Number of images found:  1040\n",
            "Number of labels found:  1040\n",
            "Number of unique characters:  19\n",
            "Characters present:  {'w', '6', 'm', 'b', 'e', 'y', 'x', '2', '4', '8', '7', 'n', 'f', 'g', '3', 'c', 'p', 'd', '5'}\n"
          ],
          "name": "stdout"
        }
      ]
    },
    {
      "cell_type": "code",
      "metadata": {
        "id": "B_n9BRlY7_LM"
      },
      "source": [
        "import json\n",
        "\n",
        "with open('char_to_num.json', 'r') as fp:\n",
        "    char_to_num_dict = json.load(fp)\n",
        "\n",
        "with open('num_to_char.json', 'r') as fp:\n",
        "    num_to_char_dict = json.load(fp)\n",
        "\n",
        "\n",
        "def decode_batch_predictions(pred):\n",
        "    input_len = np.ones(pred.shape[0]) * pred.shape[1]\n",
        "    # Use greedy search. For complex tasks, you can use beam search\n",
        "    results = keras.backend.ctc_decode(pred, input_length=input_len, greedy=True)[0][0][\n",
        "        :, :max_length\n",
        "    ]\n",
        "    # Iterate over the results and get back the text\n",
        "    output_text = []\n",
        "    for res in results:\n",
        "        res = \"\".join([num_to_char_dict[str(val)] for val in res.numpy()])\n",
        "        output_text.append(res)\n",
        "    return output_text"
      ],
      "execution_count": 7,
      "outputs": []
    },
    {
      "cell_type": "code",
      "metadata": {
        "colab": {
          "base_uri": "https://localhost:8080/",
          "height": 84
        },
        "id": "NEndY4E67qG_",
        "outputId": "17456085-f8b4-491d-f79e-562550e3f8a8"
      },
      "source": [
        "# Inference with TFLite\n",
        "import cv2\n",
        "from google.colab.patches import cv2_imshow\n",
        "\n",
        "image_path = '/content/captcha_images_v2/226md.png'\n",
        "# 1. Read image\n",
        "img = tf.io.read_file(image_path)\n",
        "# 2. Decode and convert to grayscale\n",
        "img = tf.io.decode_png(img, channels=1)\n",
        "# 3. Convert to float32 in [0, 1] range\n",
        "img = tf.image.convert_image_dtype(img, tf.float32)\n",
        "# 4. Resize to the desired size\n",
        "img = tf.image.resize(img, [img_height, img_width])\n",
        "# 5. Transpose the image because we want the time\n",
        "# dimension to correspond to the width of the image.\n",
        "img = tf.transpose(img, perm=[1, 0, 2])\n",
        "interpreter = tf.lite.Interpreter(model_path=\"ocr_dr.tflite\")\n",
        "interpreter.allocate_tensors()\n",
        "\n",
        "# Get input and output tensors.\n",
        "input_details = interpreter.get_input_details()\n",
        "output_details = interpreter.get_output_details()\n",
        "\n",
        "# Test the model on random input data.\n",
        "input_shape = input_details[0]['shape']\n",
        "input_data = np.expand_dims(img, 0)\n",
        "# input_data = np.array(np.random.random_sample(input_shape), dtype=np.float32)\n",
        "interpreter.set_tensor(input_details[0]['index'], input_data)\n",
        "\n",
        "interpreter.invoke()\n",
        "\n",
        "# The function `get_tensor()` returns a copy of the tensor data.\n",
        "# Use `tensor()` in order to get a pointer to the tensor.\n",
        "preds = interpreter.get_tensor(output_details[0]['index'])\n",
        "\n",
        "pred_texts = decode_batch_predictions(preds)\n",
        "\n",
        "print(pred_texts)\n",
        "\n",
        "show_image = cv2.imread(image_path)\n",
        "cv2_imshow(show_image)"
      ],
      "execution_count": 8,
      "outputs": [
        {
          "output_type": "stream",
          "text": [
            "['226md']\n"
          ],
          "name": "stdout"
        },
        {
          "output_type": "display_data",
          "data": {
            "image/png": "[encoded data removed]",
            "text/plain": [
              "<PIL.Image.Image image mode=RGB size=200x50 at 0x7FDD0DEBCDD8>"
            ]
          },
          "metadata": {
            "tags": []
          }
        }
      ]
    },
    {
      "cell_type": "code",
      "metadata": {
        "id": "KVUMETVB-9KV"
      },
      "source": [
        ""
      ],
      "execution_count": 8,
      "outputs": []
    }
  ]
}